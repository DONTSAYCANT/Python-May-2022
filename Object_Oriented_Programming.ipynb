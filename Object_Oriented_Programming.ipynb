{
  "cells": [
    {
      "cell_type": "code",
      "execution_count": null,
      "metadata": {
        "id": "R93653p1-Zec"
      },
      "outputs": [],
      "source": [
        "#class and object\n",
        "#Class variable and object variable\n",
        "#__init__method\n",
        "#constructor\n",
        "#Destructor\n",
        "#Static method vs class method\n",
        "\n",
        "#Inheritance and its types\n",
        "#Method overriding\n",
        "#super function\n",
        "#abstract class and method\n",
        "#Method resolution order (MRO) and Diamond shape problem\n",
        "#Encapsulation\n",
        "#polymorphism\n"
      ]
    },
    {
      "cell_type": "code",
      "source": [
        "Swiggy\n",
        "\n",
        "Food delivery  2018\n",
        "===============\n",
        "\n",
        "1) food list hotel list price\n",
        "2) registration page signup and signin\n",
        "3) Customer data  ===> sensitive \n",
        "4) payment \n",
        "5) bot ===> assign delivery parter based on order \n",
        "6) map api \n",
        "\n",
        "\n",
        "Swiggy instamart: Grocery delivery 2021 ===> 20 %  80% of the code to be reused \n",
        "==================\n",
        "\n",
        "1) grocery list and shop list\n",
        "2) registration page signup and signin\n",
        "3) \n",
        "\n",
        "80% code reuse  ==> inheritance \n",
        "protect my data or my variable ===> encapsulation\n",
        "one function but different forms ====> polymorphism\n",
        "\n",
        "\n",
        "\n"
      ],
      "metadata": {
        "id": "n73A4ohPAgCX"
      },
      "execution_count": null,
      "outputs": []
    },
    {
      "cell_type": "code",
      "execution_count": null,
      "metadata": {
        "id": "0PB4zZ4V-Zeg"
      },
      "outputs": [],
      "source": [
        "#What's object oriented programming ? what is the advantage ?\n",
        "\n",
        "#functional / structural  programming ===> functions variable \n",
        "#oo programming OOPS  ===> Methods and Attributes   classes and objects\n",
        "\n",
        "#Method ===> function inside the class\n",
        "#Attribute ===> variable inside the class\n",
        "\n",
        "#class ===> blueprint for the system or blueprint for the object\n",
        "#Class ==> combination of methods and attributes\n",
        "\n",
        "\n",
        "#Object ==> instantiation of the class \n",
        "\n",
        "\n",
        "class (Empty application form) ===> empty form which asking for details ===> need to be filled by student \n",
        "\n",
        "Object ==> \n",
        "\n",
        "Student1 ==> student form1\n",
        "Student form2\n",
        "Student form3 \n",
        "\n",
        "class one for one purpose\n",
        "Object can be anything\n",
        "\n"
      ]
    },
    {
      "cell_type": "code",
      "execution_count": null,
      "metadata": {
        "id": "BY577dm6-Zeh",
        "outputId": "f0235d3f-8c5c-4af6-a468-2ee07072b84a"
      },
      "outputs": [
        {
          "name": "stdout",
          "output_type": "stream",
          "text": [
            "10\n",
            "<class 'int'>\n"
          ]
        }
      ],
      "source": [
        "a = 10  #object1\n",
        "\n",
        "b  = 20 #object2\n",
        "\n",
        "print(a)\n",
        "print(type(a))"
      ]
    },
    {
      "cell_type": "code",
      "execution_count": null,
      "metadata": {
        "id": "fgprHMiV-Zei"
      },
      "outputs": [],
      "source": [
        "#class and object:\n",
        "\n",
        "#How to create empty class\n",
        "\n",
        "class class_name:\n",
        "    pass\n",
        "\n",
        "object_1 = class_name()\n",
        "\n",
        "\n",
        "object_2 = class_name()\n",
        "\n",
        "\n",
        "object_3 = class_name()\n"
      ]
    },
    {
      "cell_type": "code",
      "source": [
        "class school_admission:  #class\n",
        "  school_name = \"kkk high school\" #attribute #class attribute \n",
        "  branch_name = \"kolkatta\" #attribute\n",
        "\n",
        "\n",
        "#print through class\n",
        "print(school_admission.school_name)\n",
        "print(school_admission.branch_name)\n",
        "\n",
        "\n",
        "student1 = school_admission()  #object1\n",
        "\n",
        "print(student1.school_name)\n",
        "print(student1.branch_name)\n",
        "\n",
        "student2 = school_admission()  #object2\n",
        "\n",
        "print(student2.school_name)\n",
        "print(student2.branch_name)"
      ],
      "metadata": {
        "colab": {
          "base_uri": "https://localhost:8080/"
        },
        "id": "y79ZAIZcKmwf",
        "outputId": "f30914c4-303a-4976-a945-55c724dd2840"
      },
      "execution_count": 2,
      "outputs": [
        {
          "output_type": "stream",
          "name": "stdout",
          "text": [
            "kkk high school\n",
            "kolkatta\n",
            "kkk high school\n",
            "kolkatta\n",
            "kkk high school\n",
            "kolkatta\n"
          ]
        }
      ]
    },
    {
      "cell_type": "code",
      "source": [
        "\n",
        "name = \"Raj\"\n",
        "\n",
        "print(name)"
      ],
      "metadata": {
        "id": "IImh4P_MKmyq"
      },
      "execution_count": null,
      "outputs": []
    },
    {
      "cell_type": "code",
      "source": [
        "class school_admission:  #class\n",
        "  school_name = \"kkk high school\" #attribute #class attribute \n",
        "  branch_name = \"kolkatta\" #attribute\n",
        "\n",
        "\n",
        "school_admission.school_name = \"rrr high school\"\n",
        "\n",
        "#print through class\n",
        "print(school_admission.school_name)\n",
        "print(school_admission.branch_name)\n",
        "\n",
        "\n",
        "student1 = school_admission()  #object1\n",
        "\n",
        "print(student1.school_name)\n",
        "print(student1.branch_name)\n",
        "\n",
        "student2 = school_admission()  #object2\n",
        "\n",
        "print(student2.school_name)\n",
        "print(student2.branch_name)"
      ],
      "metadata": {
        "colab": {
          "base_uri": "https://localhost:8080/"
        },
        "id": "6VyGF3RFKm11",
        "outputId": "715e47f9-8775-4906-deb0-4559d4d2141c"
      },
      "execution_count": 3,
      "outputs": [
        {
          "output_type": "stream",
          "name": "stdout",
          "text": [
            "rrr high school\n",
            "kolkatta\n",
            "rrr high school\n",
            "kolkatta\n",
            "rrr high school\n",
            "kolkatta\n"
          ]
        }
      ]
    },
    {
      "cell_type": "code",
      "source": [
        "class school_admission:  #class\n",
        "  school_name = \"kkk high school\" #attribute #class attribute \n",
        "  branch_name = \"kolkatta\" #attribute\n",
        "\n",
        "student1 = school_admission()  #object1\n",
        "student1.school_name = \"rrr high school\"\n",
        "\n",
        "#print through class\n",
        "print(school_admission.school_name)\n",
        "print(school_admission.branch_name)\n",
        "\n",
        "\n",
        "print(student1.school_name)\n",
        "print(student1.branch_name)\n",
        "\n",
        "student2 = school_admission()  #object2\n",
        "\n",
        "print(student2.school_name)\n",
        "print(student2.branch_name)"
      ],
      "metadata": {
        "colab": {
          "base_uri": "https://localhost:8080/"
        },
        "id": "tDzJfG3CKnX8",
        "outputId": "9b9b5fd7-d15b-4857-a2f0-f2346a0b7856"
      },
      "execution_count": 5,
      "outputs": [
        {
          "output_type": "stream",
          "name": "stdout",
          "text": [
            "kkk high school\n",
            "kolkatta\n",
            "rrr high school\n",
            "kolkatta\n",
            "kkk high school\n",
            "kolkatta\n"
          ]
        }
      ]
    },
    {
      "cell_type": "code",
      "source": [
        ""
      ],
      "metadata": {
        "id": "dMSyLl1rKna1"
      },
      "execution_count": null,
      "outputs": []
    },
    {
      "cell_type": "code",
      "source": [
        ""
      ],
      "metadata": {
        "id": "Y48WvJuxKndb"
      },
      "execution_count": null,
      "outputs": []
    },
    {
      "cell_type": "code",
      "execution_count": null,
      "metadata": {
        "id": "s-rGtA85-Zei"
      },
      "outputs": [],
      "source": [
        "school_name = \"kvs high school\"\n",
        "branch = \"delhi\""
      ]
    },
    {
      "cell_type": "code",
      "execution_count": null,
      "metadata": {
        "id": "YdRjYtoi-Zej",
        "outputId": "862e4fe6-5efb-42f8-bccc-d2dbeed4cbe6"
      },
      "outputs": [
        {
          "name": "stdout",
          "output_type": "stream",
          "text": [
            "before change\n",
            "Student1 school kvs high school\n",
            "Student1 branch delhi\n",
            "Student2 school kvs high school\n",
            "Student2 school delhi\n",
            "School Admission school kvs high school\n",
            "School Admission branch delhi\n",
            "Student1 object attribute change\n",
            "Student1 school kvs high school\n",
            "Student1 branch punjab\n",
            "Student2 school kvs high school\n",
            "Student2 school delhi\n",
            "School Admission school kvs high school\n",
            "School Admission branch delhi\n"
          ]
        }
      ],
      "source": [
        "#class attribute ===> attributes/variables which are common to class\n",
        "\n",
        "class School_admission:\n",
        "    school_name = \"kvs high school\" #attribute\n",
        "    branch = \"delhi\"\n",
        "    \n",
        "Student1 = School_admission()\n",
        "Student2 = School_admission()\n",
        "\n",
        "print(\"before change\")\n",
        "print(\"Student1 school\", Student1.school_name)\n",
        "print(\"Student1 branch\", Student1.branch)\n",
        "print(\"Student2 school\", Student2.school_name)\n",
        "print(\"Student2 school\", Student2.branch)\n",
        "print(\"School Admission school\", School_admission.school_name)\n",
        "print(\"School Admission branch\", School_admission.branch)\n",
        "\n",
        "print(\"Student1 object attribute change\" )\n",
        "Student1.branch = \"punjab\" #object based change\n",
        "\n",
        "print(\"Student1 school\", Student1.school_name)\n",
        "print(\"Student1 branch\", Student1.branch)\n",
        "print(\"Student2 school\", Student2.school_name)\n",
        "print(\"Student2 school\", Student2.branch)\n",
        "print(\"School Admission school\", School_admission.school_name)\n",
        "print(\"School Admission branch\", School_admission.branch)"
      ]
    },
    {
      "cell_type": "code",
      "execution_count": null,
      "metadata": {
        "id": "TJA6txbp-Zek"
      },
      "outputs": [],
      "source": [
        ""
      ]
    },
    {
      "cell_type": "code",
      "execution_count": null,
      "metadata": {
        "id": "BGGfp8fX-Zel",
        "outputId": "4d88d5fa-0adc-4288-9b72-243f3831d381"
      },
      "outputs": [
        {
          "name": "stdout",
          "output_type": "stream",
          "text": [
            "before change\n",
            "Student1 school kvs high school\n",
            "Student1 branch delhi\n",
            "Student2 school kvs high school\n",
            "Student2 school delhi\n",
            "School Admission school kvs high school\n",
            "School Admission branch delhi\n",
            "Student1 object attribute change\n",
            "Student1 school kvs high school\n",
            "Student1 branch punjab\n",
            "Student2 school kvs high school\n",
            "Student2 school delhi\n",
            "School Admission school kvs high school\n",
            "School Admission branch delhi\n",
            "School Apllication class attribute change\n",
            "Student1 school tvs high school\n",
            "Student1 branch punjab\n",
            "Student2 school tvs high school\n",
            "Student2 school delhi\n",
            "School Admission school tvs high school\n",
            "School Admission branch delhi\n"
          ]
        }
      ],
      "source": [
        "#class Attribute  and object Attribute\n",
        "\n",
        "class School_admission:\n",
        "    school_name = \"kvs high school\" #attribute\n",
        "    branch = \"delhi\"\n",
        "    \n",
        "Student1 = School_admission()\n",
        "Student2 = School_admission()\n",
        "\n",
        "\n",
        "print(\"before change\")\n",
        "\n",
        "print(\"Student1 school\", Student1.school_name)\n",
        "print(\"Student1 branch\", Student1.branch)\n",
        "print(\"Student2 school\", Student2.school_name)\n",
        "print(\"Student2 school\", Student2.branch)\n",
        "print(\"School Admission school\", School_admission.school_name)\n",
        "print(\"School Admission branch\", School_admission.branch)\n",
        "\n",
        "#Class attribute\n",
        "\n",
        "print(\"Student1 object attribute change\" )\n",
        "Student1.branch = \"punjab\" #object based change\n",
        "\n",
        "print(\"Student1 school\", Student1.school_name)\n",
        "print(\"Student1 branch\", Student1.branch)\n",
        "print(\"Student2 school\", Student2.school_name)\n",
        "print(\"Student2 school\", Student2.branch)\n",
        "print(\"School Admission school\", School_admission.school_name)\n",
        "print(\"School Admission branch\", School_admission.branch)\n",
        "\n",
        "print(\"School Apllication class attribute change\" )\n",
        "\n",
        "School_admission.school_name = \"tvs high school\" #class attribute\n",
        "\n",
        "print(\"Student1 school\", Student1.school_name)\n",
        "print(\"Student1 branch\", Student1.branch)\n",
        "\n",
        "print(\"Student2 school\", Student2.school_name)\n",
        "print(\"Student2 school\", Student2.branch)\n",
        "\n",
        "print(\"School Admission school\", School_admission.school_name)\n",
        "print(\"School Admission branch\", School_admission.branch)\n",
        "\n",
        "\n",
        "\n"
      ]
    },
    {
      "cell_type": "code",
      "source": [
        "class school_admission:\n",
        "  def func1(self):\n",
        "    return \"calling from func1\"\n",
        "\n",
        "stud1 = school_admission()\n",
        "print(stud1.func1()) #Method call #Modern way \n",
        "\n",
        "print(school_admission.func1(stud1)) #traditional way"
      ],
      "metadata": {
        "colab": {
          "base_uri": "https://localhost:8080/"
        },
        "id": "s82PHjLOPZu5",
        "outputId": "1d26249e-aa04-4f45-d3d8-f2453e40ba87"
      },
      "execution_count": 10,
      "outputs": [
        {
          "output_type": "stream",
          "name": "stdout",
          "text": [
            "calling from func1\n",
            "calling from func1\n"
          ]
        }
      ]
    },
    {
      "cell_type": "code",
      "source": [
        "def fun():\n",
        "  return \"hi\"\n",
        "\n",
        "print(fun(\"hello\"))"
      ],
      "metadata": {
        "colab": {
          "base_uri": "https://localhost:8080/",
          "height": 208
        },
        "id": "aoUvUnt0PyJV",
        "outputId": "c483a773-a781-44df-b28f-6cc4a9145bcd"
      },
      "execution_count": 9,
      "outputs": [
        {
          "output_type": "error",
          "ename": "TypeError",
          "evalue": "ignored",
          "traceback": [
            "\u001b[0;31m---------------------------------------------------------------------------\u001b[0m",
            "\u001b[0;31mTypeError\u001b[0m                                 Traceback (most recent call last)",
            "\u001b[0;32m<ipython-input-9-d59350575026>\u001b[0m in \u001b[0;36m<module>\u001b[0;34m()\u001b[0m\n\u001b[1;32m      3\u001b[0m \u001b[0;34m\u001b[0m\u001b[0m\n\u001b[1;32m      4\u001b[0m \u001b[0;34m\u001b[0m\u001b[0m\n\u001b[0;32m----> 5\u001b[0;31m \u001b[0mprint\u001b[0m\u001b[0;34m(\u001b[0m\u001b[0mfun\u001b[0m\u001b[0;34m(\u001b[0m\u001b[0;34m\"hello\"\u001b[0m\u001b[0;34m)\u001b[0m\u001b[0;34m)\u001b[0m\u001b[0;34m\u001b[0m\u001b[0;34m\u001b[0m\u001b[0m\n\u001b[0m",
            "\u001b[0;31mTypeError\u001b[0m: fun() takes 0 positional arguments but 1 was given"
          ]
        }
      ]
    },
    {
      "cell_type": "code",
      "source": [
        ""
      ],
      "metadata": {
        "id": "CI7R42UzPyd_"
      },
      "execution_count": null,
      "outputs": []
    },
    {
      "cell_type": "code",
      "execution_count": 6,
      "metadata": {
        "colab": {
          "base_uri": "https://localhost:8080/"
        },
        "id": "wZgp9vCT-Zel",
        "outputId": "eb55f0c5-1b79-439f-c1ff-c731acaec047"
      },
      "outputs": [
        {
          "output_type": "stream",
          "name": "stdout",
          "text": [
            "Delhi\n",
            "Group allocation process\n",
            "KKK high school\n",
            "<__main__.School object at 0x7ff3a7c45850>\n",
            "40\n",
            "Hostel allocation processis done for KKK high school\n",
            "KKK high school\n",
            "<__main__.School object at 0x7ff3a7c6f410>\n",
            "30\n",
            "KKK high school\n",
            "<__main__.School object at 0x7ff3a7c6f410>\n",
            "58\n"
          ]
        }
      ],
      "source": [
        "class School:\n",
        "    school_name = \"KKK high school\"\n",
        "    branch = \"Delhi\"\n",
        "    \n",
        "    def group_allocation(self): #method \n",
        "        return \"Group allocation process\"\n",
        "\n",
        "    def Hostel_allocation(self): #method\n",
        "        return \"Hostel allocation process\" + \"is done for \" + self.school_name \n",
        "        \n",
        "    def add_numbers(self, a, b): #method\n",
        "        print(self.school_name)\n",
        "        print(self)\n",
        "        return a + b\n",
        "    \n",
        "student1 = School() #object creation\n",
        "print(student1.branch) #Access class attribute through object\n",
        "print(student1.group_allocation()) #Access class methods through object\n",
        "print(student1.add_numbers(15,25))\n",
        "student2 = School()\n",
        "print(student2.Hostel_allocation())\n",
        "print(student2.add_numbers(10,20))\n",
        "print(student2.add_numbers(34,24))"
      ]
    },
    {
      "cell_type": "code",
      "execution_count": null,
      "metadata": {
        "id": "TCwFEMnR-Zem"
      },
      "outputs": [],
      "source": [
        ""
      ]
    },
    {
      "cell_type": "code",
      "execution_count": null,
      "metadata": {
        "id": "O4S2FwGv-Zem",
        "outputId": "3e2da60a-8c60-4222-ec61-0294e631c5d7"
      },
      "outputs": [
        {
          "name": "stdout",
          "output_type": "stream",
          "text": [
            "Delhi\n",
            "Group allocation process\n",
            "<__main__.School object at 0x000001FB4AE60408>\n",
            "Hostel allocation processis done for KKK high school\n",
            "<__main__.School object at 0x000001FB4B002348>\n",
            "Hostel allocation processis done for KKK high school\n",
            "<__main__.School object at 0x000001FB4B002348>\n",
            "Hostel allocation processis done for KKK high school\n"
          ]
        }
      ],
      "source": [
        "class School:\n",
        "    \n",
        "    school_name = \"KKK high school\"\n",
        "    branch = \"Delhi\"\n",
        "    \n",
        "    def group_allocation(self):\n",
        "        return \"Group allocation process\"\n",
        "    \n",
        "    def Hostel_allocation(self):\n",
        "        print(self)\n",
        "        return \"Hostel allocation process\" + \"is done for \" + self.school_name\n",
        "    \n",
        "\n",
        "student1 = School()\n",
        "print(student1.branch) #Access class attribute through object\n",
        "print(student1.group_allocation()) #Access class methods through object\n",
        "\n",
        "\n",
        "student2 = School()\n",
        "print(student2.Hostel_allocation())\n",
        "\n",
        "\n",
        "student3 = School()\n",
        "\n",
        "print(School.Hostel_allocation(student3)) #Traditional way  <class name>.<method name>(object)\n",
        "print(student3.Hostel_allocation()) #recent way             <object>.<method name>\n",
        "\n"
      ]
    },
    {
      "cell_type": "code",
      "source": [
        "class School:\n",
        "    \n",
        "    school_name = \"KKK high school\"\n",
        "    branch = \"Delhi\"\n",
        "    \n",
        "    def __init__(self,student_name, group): #constructor\n",
        "        print(\"checking constructor call\")\n",
        "        self.student_name = student_name\n",
        "        self.group = group\n",
        "\n",
        "student1 = School(\"Ram\", \"group1\") #Object attribute"
      ],
      "metadata": {
        "colab": {
          "base_uri": "https://localhost:8080/"
        },
        "id": "xbIpqkT6ShPO",
        "outputId": "dc01ea7a-412e-4cda-8592-238b7b5480ff"
      },
      "execution_count": 11,
      "outputs": [
        {
          "output_type": "stream",
          "name": "stdout",
          "text": [
            "checking constructor call\n"
          ]
        }
      ]
    },
    {
      "cell_type": "code",
      "execution_count": null,
      "metadata": {
        "id": "li_KDWjk-Zen",
        "outputId": "01539212-a93f-442c-a178-67f7cdfde662"
      },
      "outputs": [
        {
          "name": "stdout",
          "output_type": "stream",
          "text": [
            "checking constructor call\n",
            "Delhi\n",
            "Group allocation process\n",
            "checking constructor call\n",
            "Hostel allocation processis done for KKK high schoolfor student Raogroup2\n",
            "checking constructor call\n",
            "Hostel allocation processis done for KKK high schoolfor student Jaigroup3\n",
            "Hostel allocation processis done for KKK high schoolfor student Jaigroup3\n"
          ]
        }
      ],
      "source": [
        "#constructor:  \n",
        "\n",
        "#Method which called automatically while creating object (No need to do function call)\n",
        "\n",
        "class School:\n",
        "    \n",
        "    school_name = \"KKK high school\"\n",
        "    branch = \"Delhi\"\n",
        "    \n",
        "    def __init__(self,student_name, group): #constructor\n",
        "        print(\"checking constructor call\")\n",
        "        self.student_name = student_name\n",
        "        self.group = group\n",
        "        \n",
        "        #parameterised : only self no other args\n",
        "        #Non parameterised: self + atleast 1 parameter\n",
        "    \n",
        "    def group_allocation(self):\n",
        "        return \"Group allocation process\"\n",
        "    \n",
        "    def Hostel_allocation(self):\n",
        "        return \"Hostel allocation process\" + \"is done for \" + self.school_name + \"for student \" + self.student_name + self.group\n",
        "    \n",
        "\n",
        "student1 = School(\"Ram\", \"group1\") #Object attribute\n",
        "print(student1.branch) #Access class attribute through object\n",
        "print(student1.group_allocation()) #Access class methods through object\n",
        "\n",
        "student2 = School(\"Rao\", \"group2\")\n",
        "print(student2.Hostel_allocation())\n",
        "\n",
        "student3 = School(\"Jai\", \"group3\")\n",
        "print(School.Hostel_allocation(student3)) #Traditional way\n",
        "print(student3.Hostel_allocation()) #recent way"
      ]
    },
    {
      "cell_type": "code",
      "execution_count": null,
      "metadata": {
        "id": "lDtMyLJG-Zep"
      },
      "outputs": [],
      "source": [
        "https://www.geeksforgeeks.org/python-oops-concepts/"
      ]
    },
    {
      "cell_type": "code",
      "execution_count": null,
      "metadata": {
        "id": "6VIO_fGM-Zep",
        "outputId": "a09a3d9c-2dd9-4a63-b1d5-8219bebeb863"
      },
      "outputs": [
        {
          "name": "stdout",
          "output_type": "stream",
          "text": [
            "checking constructor call\n",
            "Delhi\n",
            "Group allocation process\n",
            "destructor called\n"
          ]
        }
      ],
      "source": [
        "class School:\n",
        "    \n",
        "    school_name = \"KKK high school\"\n",
        "    branch = \"Delhi\"\n",
        "    \n",
        "    def __init__(self,student_name): #constructor\n",
        "        print(\"checking constructor call\")\n",
        "        self.student_name = student_name\n",
        "    \n",
        "    def group_allocation(self):\n",
        "        return \"Group allocation process\"\n",
        "    \n",
        "    def Hostel_allocation(self):\n",
        "        return \"Hostel allocation process\" + \"is done for \" + self.school_name + \"for student \" + self.student_name\n",
        "    \n",
        "    def __del__(self):\n",
        "        print(\"destructor called\")\n",
        "        \n",
        "    \n",
        "\n",
        "student1 = School(\"Ram\") #Object attribute\n",
        "print(student1.branch) #Access class attribute through object\n",
        "print(student1.group_allocation()) #Access class methods through object\n",
        "\n",
        "del student1"
      ]
    },
    {
      "cell_type": "code",
      "execution_count": null,
      "metadata": {
        "id": "lTKQxNru-Zeq",
        "outputId": "0dea98a3-24cd-4c87-df66-a6ca5d6a1b91"
      },
      "outputs": [
        {
          "name": "stdout",
          "output_type": "stream",
          "text": [
            "Delhi\n",
            "Group allocation process\n",
            "feedback collection process\n"
          ]
        }
      ],
      "source": [
        "#Static methosd\n",
        "\n",
        "class School:\n",
        "    \n",
        "    school_name = \"KKK high school\"\n",
        "    branch = \"Delhi\"\n",
        "    \n",
        "    \n",
        "    def group_allocation(self):\n",
        "        return \"Group allocation process\"\n",
        "    \n",
        "    def Hostel_allocation(self):\n",
        "        return \"Hostel allocation process\" + \"is done for \" + self.school_name + \"for student \" + self.student_name\n",
        " \n",
        "    @staticmethod\n",
        "    def feedback():\n",
        "        return \"feedback collection process\"\n",
        "        \n",
        "        \n",
        "student1 = School() #Object attribute\n",
        "print(student1.branch) #Access class attribute through object\n",
        "print(student1.group_allocation()) #Access class methods through object\n",
        "\n",
        "print(student1.feedback())\n"
      ]
    },
    {
      "cell_type": "code",
      "execution_count": null,
      "metadata": {
        "id": "myS1mZya-Zeq",
        "outputId": "0a2be06c-6bbb-4457-9800-c6b6aef378b4"
      },
      "outputs": [
        {
          "name": "stdout",
          "output_type": "stream",
          "text": [
            "checking constructor call\n",
            "Delhi\n",
            "Group allocation process\n",
            "feedback collection process\n",
            "feedback school collected KKK high school\n"
          ]
        }
      ],
      "source": [
        "#class method\n",
        "\n",
        "class School:\n",
        "    \n",
        "    school_name = \"KKK high school\"\n",
        "    branch = \"Delhi\"\n",
        "    \n",
        "    def __init__(self,student_name): #constructor\n",
        "        print(\"checking constructor call\")\n",
        "        self.student_name = student_name\n",
        "    \n",
        "    def group_allocation(self):\n",
        "        return \"Group allocation process\"\n",
        "    \n",
        "    def Hostel_allocation(self):\n",
        "        return \"Hostel allocation process\" + \"is done for \" + self.school_name + \"for student \" + self.student_name\n",
        " \n",
        "    @staticmethod  #You cannnot access both class attribute and object attribute\n",
        "    def feedback():\n",
        "        return \"feedback collection process\"\n",
        "    \n",
        "    @classmethod #you can access only class level things\n",
        "    def feedback_school(cls):\n",
        "        return \"feedback school collected \" + cls.school_name\n",
        "        \n",
        "        \n",
        "student1 = School(\"Ram\") #Object attribute\n",
        "print(student1.branch) #Access class attribute through object\n",
        "print(student1.group_allocation()) #Access class methods through object\n",
        "\n",
        "print(student1.feedback())\n",
        "print(student1.feedback_school())"
      ]
    },
    {
      "cell_type": "code",
      "execution_count": null,
      "metadata": {
        "id": "W4QCuDX8-Zer"
      },
      "outputs": [],
      "source": [
        "\n",
        "#Inheritance and its types\n",
        "#Method overriding\n",
        "#super function\n",
        "\n",
        "\n",
        "#Method resolution order (MRO) and Diamond shape problem\n",
        "#abstract class and method\n",
        "#Encapsulation\n",
        "#polymorphism"
      ]
    },
    {
      "cell_type": "code",
      "execution_count": null,
      "metadata": {
        "id": "YuPc2tMK-Zer"
      },
      "outputs": [],
      "source": [
        "#Inheritance and types\n",
        "\n",
        "\n",
        "#swiggy  2018\n",
        "#swiggy grocery  2022\n",
        "\n",
        "\n",
        "#Utilities ==> functionalities \n",
        "\n",
        "#Inheritance  ===> inheriting properties (attributes and methods) of parent class (super/main class ) from child class (sub class)\n",
        "\n",
        "\n",
        "#Five different \n",
        "\n",
        "#single inheritance\n",
        "#multiple inheritance\n",
        "#multi level inheritance\n",
        "#hierarchical inheritance\n",
        "#hybrid inheritance\n",
        "\n"
      ]
    },
    {
      "cell_type": "code",
      "execution_count": null,
      "metadata": {
        "id": "rgBLeKgw-Zes",
        "outputId": "1d81140e-89c8-4c12-df76-6dffc22143e4"
      },
      "outputs": [
        {
          "name": "stdout",
          "output_type": "stream",
          "text": [
            "This is swiggy software usage way\n",
            "This is swiggy grocery software usage way\n"
          ]
        },
        {
          "ename": "AttributeError",
          "evalue": "'swiggy_grocery' object has no attribute 'software_usage_swiggy'",
          "output_type": "error",
          "traceback": [
            "\u001b[1;31m---------------------------------------------------------------------------\u001b[0m",
            "\u001b[1;31mAttributeError\u001b[0m                            Traceback (most recent call last)",
            "\u001b[1;32m<ipython-input-3-bace7848ce40>\u001b[0m in \u001b[0;36m<module>\u001b[1;34m\u001b[0m\n\u001b[0;32m     14\u001b[0m \u001b[0mcustomer2\u001b[0m \u001b[1;33m=\u001b[0m \u001b[0mswiggy_grocery\u001b[0m\u001b[1;33m(\u001b[0m\u001b[1;33m)\u001b[0m\u001b[1;33m\u001b[0m\u001b[1;33m\u001b[0m\u001b[0m\n\u001b[0;32m     15\u001b[0m \u001b[0mprint\u001b[0m\u001b[1;33m(\u001b[0m\u001b[0mcustomer2\u001b[0m\u001b[1;33m.\u001b[0m\u001b[0msoftware_usage_swiggy_grocery\u001b[0m\u001b[1;33m(\u001b[0m\u001b[1;33m)\u001b[0m\u001b[1;33m)\u001b[0m\u001b[1;33m\u001b[0m\u001b[1;33m\u001b[0m\u001b[0m\n\u001b[1;32m---> 16\u001b[1;33m \u001b[0mprint\u001b[0m\u001b[1;33m(\u001b[0m\u001b[0mcustomer2\u001b[0m\u001b[1;33m.\u001b[0m\u001b[0msoftware_usage_swiggy\u001b[0m\u001b[1;33m(\u001b[0m\u001b[1;33m)\u001b[0m\u001b[1;33m)\u001b[0m\u001b[1;33m\u001b[0m\u001b[1;33m\u001b[0m\u001b[0m\n\u001b[0m",
            "\u001b[1;31mAttributeError\u001b[0m: 'swiggy_grocery' object has no attribute 'software_usage_swiggy'"
          ]
        }
      ],
      "source": [
        "#Normal class call\n",
        "\n",
        "class swiggy:  \n",
        "    def software_usage_swiggy(self):\n",
        "        return \"This is swiggy software usage way\"\n",
        "\n",
        "    \n",
        "class swiggy_grocery:\n",
        "    def software_usage_swiggy_grocery(self):\n",
        "        return \"This is swiggy grocery software usage way\"\n",
        "    \n",
        "customer1 = swiggy()\n",
        "print(customer1.software_usage_swiggy())\n",
        "\n",
        "\n",
        "customer2 = swiggy_grocery()\n",
        "print(customer2.software_usage_swiggy_grocery())\n",
        "print(customer2.software_usage_swiggy())"
      ]
    },
    {
      "cell_type": "code",
      "execution_count": null,
      "metadata": {
        "id": "s5v4brzK-Zes",
        "outputId": "cf16d242-fcf7-40ca-f3ec-359e98414844"
      },
      "outputs": [
        {
          "name": "stdout",
          "output_type": "stream",
          "text": [
            "This is swiggy software usage way\n",
            "This is swiggy grocery software usage way\n",
            "This is swiggy software usage way\n"
          ]
        }
      ],
      "source": [
        "#Swiggy grocery #single inheritance\n",
        "\n",
        "class swiggy:  \n",
        "    def software_usage_swiggy(self):\n",
        "        return \"This is swiggy software usage way\"\n",
        "\n",
        "    \n",
        "class swiggy_grocery(swiggy):\n",
        "    def software_usage_swiggy_grocery(self):\n",
        "        return \"This is swiggy grocery software usage way\"\n",
        "    \n",
        "customer1 = swiggy()\n",
        "print(customer1.software_usage_swiggy())\n",
        "\n",
        "\n",
        "customer2 = swiggy_grocery()\n",
        "print(customer2.software_usage_swiggy_grocery())\n",
        "print(customer2.software_usage_swiggy())"
      ]
    },
    {
      "cell_type": "code",
      "execution_count": null,
      "metadata": {
        "id": "UiQiFapb-Zet",
        "outputId": "4488b987-3d4b-498e-9634-e5d587424f9f"
      },
      "outputs": [
        {
          "name": "stdout",
          "output_type": "stream",
          "text": [
            "This is swiggy software usage way\n",
            "This is swiggy grocery software usage way\n",
            "This is swiggy all in one\n",
            "This is swiggy software usage way\n",
            "This is swiggy grocery software usage way\n"
          ]
        }
      ],
      "source": [
        "#Multiple inheritance ==> multiple parents for single child\n",
        "\n",
        "class swiggy:  \n",
        "    def software_usage_swiggy(self):\n",
        "        return \"This is swiggy software usage way\"\n",
        "\n",
        "    \n",
        "class swiggy_grocery:\n",
        "    def software_usage_swiggy_grocery(self):\n",
        "        return \"This is swiggy grocery software usage way\"\n",
        "    \n",
        "class swiggy_all(swiggy, swiggy_grocery):\n",
        "    def software_usage_swiggy_all(self):\n",
        "        return \"This is swiggy all in one\"\n",
        "    \n",
        "    \n",
        "customer1 = swiggy()\n",
        "print(customer1.software_usage_swiggy())\n",
        "\n",
        "\n",
        "customer2 = swiggy_grocery()\n",
        "print(customer2.software_usage_swiggy_grocery())\n",
        "\n",
        "customer3 = swiggy_all()\n",
        "\n",
        "print(customer3.software_usage_swiggy_all())\n",
        "print(customer3.software_usage_swiggy())\n",
        "print(customer3.software_usage_swiggy_grocery())\n"
      ]
    },
    {
      "cell_type": "code",
      "execution_count": null,
      "metadata": {
        "id": "zHaOd5E3-Zeu",
        "outputId": "c73dfb82-eb1c-463a-8577-82f79406b76d"
      },
      "outputs": [
        {
          "name": "stdout",
          "output_type": "stream",
          "text": [
            "This is delivery_parter\n",
            "This is swiggy software usage way\n",
            "This is delivery_parter\n",
            "This is swiggy grocery software usage way\n",
            "This is delivery_parter\n"
          ]
        }
      ],
      "source": [
        "#Hierarchical inheritance ==> single parent for multiple child\n",
        "\n",
        "class delivery_parter:\n",
        "    def software_usage_delivery_parter(self):\n",
        "        return \"This is delivery_parter\"\n",
        "\n",
        "class swiggy(delivery_parter):  \n",
        "    def software_usage_swiggy(self):\n",
        "        return \"This is swiggy software usage way\"\n",
        "\n",
        "    \n",
        "class swiggy_grocery(delivery_parter):\n",
        "    def software_usage_swiggy_grocery(self):\n",
        "        return \"This is swiggy grocery software usage way\"\n",
        "    \n",
        "    \n",
        "delivery_customer = delivery_parter()\n",
        "print(delivery_customer.software_usage_delivery_parter())\n",
        "    \n",
        "\n",
        "customer1 = swiggy()\n",
        "print(customer1.software_usage_swiggy())\n",
        "print(customer1.software_usage_delivery_parter())\n",
        "\n",
        "\n",
        "\n",
        "customer2 = swiggy_grocery()\n",
        "print(customer2.software_usage_swiggy_grocery())\n",
        "print(customer2.software_usage_delivery_parter())\n",
        "\n"
      ]
    },
    {
      "cell_type": "code",
      "execution_count": null,
      "metadata": {
        "id": "XCNN2aXn-Zew",
        "outputId": "d6458443-1105-4ceb-c03b-354ae5ce81af"
      },
      "outputs": [
        {
          "name": "stdout",
          "output_type": "stream",
          "text": [
            "This is delivery_parter\n",
            "This is swiggy software usage way\n",
            "This is delivery_parter\n",
            "This is swiggy software usage way\n",
            "This is delivery_parter\n",
            "This is swiggy all in one\n"
          ]
        }
      ],
      "source": [
        "#Multi lvel inheritance   ==> grand parent  ==> parent  ==> child\n",
        "\n",
        "class delivery_parter: #grand parent\n",
        "    def software_usage_delivery_parter(self):\n",
        "        return \"This is delivery_parter\"\n",
        "\n",
        "class swiggy(delivery_parter):   #parent\n",
        "    def software_usage_swiggy(self):\n",
        "        return \"This is swiggy software usage way\"\n",
        "    \n",
        "class swiggy_all(swiggy): #child\n",
        "    def software_usage_swiggy_all(self):\n",
        "        return \"This is swiggy all in one\"\n",
        "    \n",
        "customer1 = delivery_parter()\n",
        "print(customer1.software_usage_delivery_parter())\n",
        "\n",
        "customer2 = swiggy()\n",
        "print(customer2.software_usage_swiggy())\n",
        "print(customer2.software_usage_delivery_parter())\n",
        "\n",
        "\n",
        "customer3 = swiggy_all()\n",
        "\n",
        "print(customer3.software_usage_swiggy())\n",
        "print(customer3.software_usage_delivery_parter())\n",
        "print(customer3.software_usage_swiggy_all())\n",
        "\n"
      ]
    },
    {
      "cell_type": "code",
      "execution_count": null,
      "metadata": {
        "id": "0v_UMkRs-Zex"
      },
      "outputs": [],
      "source": [
        "#Hybrid ===> combination of any two or more\n",
        "\n",
        "#multiple + multilevel\n",
        "#hierarchical + multiple\n",
        "\n",
        "https://www.geeksforgeeks.org/types-of-inheritance-python/?ref=lbp"
      ]
    },
    {
      "cell_type": "code",
      "execution_count": null,
      "metadata": {
        "id": "zU87v4e2-Ze0",
        "outputId": "7cc1c03f-d949-4935-b7a7-207157182f42"
      },
      "outputs": [
        {
          "name": "stdout",
          "output_type": "stream",
          "text": [
            "This is swiggy software usage way\n",
            "This billing for swiggy\n",
            "This is swiggy grocery software usage way\n",
            "This is swiggy software usage way\n",
            "This billing for swiggy grocery\n"
          ]
        }
      ],
      "source": [
        "#Method overriding\n",
        "class swiggy:  \n",
        "    def software_usage_swiggy(self):\n",
        "        return \"This is swiggy software usage way\"\n",
        "    \n",
        "    def billing(self):\n",
        "        return \"This billing for swiggy\"\n",
        "\n",
        "    \n",
        "class swiggy_grocery(swiggy):\n",
        "    def software_usage_swiggy_grocery(self):\n",
        "        return \"This is swiggy grocery software usage way\"\n",
        "    \n",
        "    def billing(self): #child will get priority over parent\n",
        "        return \"This billing for swiggy grocery\"\n",
        "    \n",
        "customer1 = swiggy()\n",
        "print(customer1.software_usage_swiggy())\n",
        "print(customer1.billing())\n",
        "\n",
        "\n",
        "\n",
        "customer2 = swiggy_grocery()\n",
        "print(customer2.software_usage_swiggy_grocery())\n",
        "print(customer2.software_usage_swiggy())\n",
        "print(customer2.billing())\n"
      ]
    },
    {
      "cell_type": "code",
      "execution_count": null,
      "metadata": {
        "id": "7AeUM5vV-Ze1",
        "outputId": "866d1303-e8bd-4473-dbab-7baa8ee18061"
      },
      "outputs": [
        {
          "name": "stdout",
          "output_type": "stream",
          "text": [
            "This is swiggy software usage way\n",
            "This is swiggy grocery software usage way\n",
            "This is swiggy software usage way\n",
            "parent method call through super:  This is swiggy software usage way\n",
            "This billing for swiggy grocery\n"
          ]
        }
      ],
      "source": [
        "#Super function\n",
        "class swiggy:  \n",
        "    def software_usage_swiggy(self):\n",
        "        return \"This is swiggy software usage way\"\n",
        "    \n",
        "    def billing(self):\n",
        "        return \"This billing for swiggy\"\n",
        "\n",
        "    \n",
        "class swiggy_grocery(swiggy):\n",
        "    def software_usage_swiggy_grocery(self):\n",
        "        return \"This is swiggy grocery software usage way\"\n",
        "    \n",
        "    def billing(self): \n",
        "        print(\"parent method call through super: \",super().software_usage_swiggy())\n",
        "        return \"This billing for swiggy grocery\"\n",
        "    \n",
        "customer1 = swiggy()\n",
        "print(customer1.software_usage_swiggy())\n",
        "\n",
        "\n",
        "customer2 = swiggy_grocery()\n",
        "print(customer2.software_usage_swiggy_grocery())\n",
        "print(customer2.software_usage_swiggy())\n",
        "print(customer2.billing())\n",
        "\n",
        "\n"
      ]
    },
    {
      "cell_type": "code",
      "execution_count": null,
      "metadata": {
        "id": "pzfNX25N-Ze2",
        "outputId": "b26ab563-d74d-4ea2-d650-59862358909b"
      },
      "outputs": [
        {
          "name": "stdout",
          "output_type": "stream",
          "text": [
            "common func from cls4\n"
          ]
        }
      ],
      "source": [
        "#Method resolution order or Diamond shape problem\n",
        "\n",
        "class cls1:\n",
        "    def common_func(self):\n",
        "        return \"common func from cls1\"\n",
        "\n",
        "\n",
        "class cls2:\n",
        "    def common_func(self):\n",
        "        return \"common func from cls2\"\n",
        "    \n",
        "\n",
        "class cls3:\n",
        "    def common_func(self):\n",
        "        return \"common func from cls3\"\n",
        "    \n",
        "\n",
        "class cls4:\n",
        "    def common_func(self):\n",
        "        return \"common func from cls4\"\n",
        "\n",
        "    \n",
        "obj1 = cls3()\n",
        "print(obj1.common_func())"
      ]
    },
    {
      "cell_type": "code",
      "execution_count": null,
      "metadata": {
        "id": "QxOPTuSr-Ze2",
        "outputId": "ded59a63-f97d-454c-fba6-0bb4a19de924"
      },
      "outputs": [
        {
          "name": "stdout",
          "output_type": "stream",
          "text": [
            "common func from cls4\n"
          ]
        }
      ],
      "source": [
        "class cls1:\n",
        "    def common_func(self):\n",
        "        return \"common func from cls1\"\n",
        "\n",
        "\n",
        "class cls2(cls1):\n",
        "    def common_func(self):\n",
        "        return \"common func from cls2\"\n",
        "    \n",
        "\n",
        "class cls3(cls1):\n",
        "    def common_func(self):\n",
        "        return \"common func from cls3\"\n",
        "    \n",
        "\n",
        "class cls4(cls3,cls2):\n",
        "    def common_func(self):\n",
        "        return \"common func from cls4\"\n",
        "\n",
        "    \n",
        "obj1 = cls4()\n",
        "print(obj1.common_func())"
      ]
    },
    {
      "cell_type": "code",
      "execution_count": null,
      "metadata": {
        "id": "cLPwPK_P-Ze2",
        "outputId": "0b2976fd-01d8-4ad4-ab1d-c2f673bdcc66"
      },
      "outputs": [
        {
          "name": "stdout",
          "output_type": "stream",
          "text": [
            "common func from cls2\n"
          ]
        }
      ],
      "source": [
        "#https://www.geeksforgeeks.org/multiple-inheritance-in-python/\n",
        "\n",
        "class cls1:\n",
        "    def common_func(self):\n",
        "        return \"common func from cls1\"\n",
        "\n",
        "\n",
        "class cls2(cls1):\n",
        "    def common_func(self):\n",
        "        return \"common func from cls2\"\n",
        "    \n",
        "\n",
        "class cls3(cls1):\n",
        "    def common_func(self):\n",
        "        return \"common func from cls3\"\n",
        "    \n",
        "\n",
        "class cls4(cls2,cls3):\n",
        "    pass\n",
        "\n",
        "    \n",
        "obj1 = cls4()\n",
        "print(obj1.common_func())"
      ]
    },
    {
      "cell_type": "code",
      "execution_count": null,
      "metadata": {
        "id": "uIBqYoxj-Ze3"
      },
      "outputs": [],
      "source": [
        ""
      ]
    },
    {
      "cell_type": "code",
      "execution_count": null,
      "metadata": {
        "id": "ErXUBk0E-Ze3",
        "outputId": "b225becf-4613-4eeb-d232-00afae4cb9dc"
      },
      "outputs": [
        {
          "name": "stdout",
          "output_type": "stream",
          "text": [
            "implementation of func1 from cls2\n"
          ]
        }
      ],
      "source": [
        "#abstract class and abstract method\n",
        "#https://www.geeksforgeeks.org/abstract-classes-in-python/\n",
        "\n",
        "\n",
        "from abc import ABC, abstractmethod\n",
        "\n",
        "\n",
        "class cls1(ABC):  #abstract class\n",
        "    \n",
        "    @abstractmethod\n",
        "    def func1(self):\n",
        "        pass\n",
        "    \n",
        "    @abstractmethod\n",
        "    def func2(self):\n",
        "        pass\n",
        "    \n",
        "class cls2(cls1): #single inheritance from abstract class\n",
        "    \n",
        "    def func1(self):\n",
        "        return \"implementation of func1 from cls2\"\n",
        "    \n",
        "    def func2(self):\n",
        "        return \"implementation of func2 from cls2\"\n",
        "    \n",
        "obj1 = cls2()\n",
        "print(obj1.func1())\n",
        "    "
      ]
    },
    {
      "cell_type": "code",
      "execution_count": null,
      "metadata": {
        "id": "5K9lF5FE-Ze3"
      },
      "outputs": [],
      "source": [
        "#polymorphism\n",
        "\n",
        "#many forms\n",
        "\n",
        "\n",
        "#polymorphism\n",
        "\n",
        "https://www.geeksforgeeks.org/polymorphism-in-python/\n",
        "\n"
      ]
    },
    {
      "cell_type": "code",
      "execution_count": null,
      "metadata": {
        "id": "oFz6jhVe-Ze3"
      },
      "outputs": [],
      "source": [
        "#encapsulation\n",
        "#https://www.geeksforgeeks.org/encapsulation-in-python/\n",
        "\n",
        "\n",
        "#__ ===> private member (only inside class)\n",
        "#_ ==> protected member (base class and derived class)\n",
        "#normal ==> public (anywhere)\n",
        "\n",
        "\n",
        "#Overloading\n",
        "\n",
        "\n",
        "class A:\n",
        "    \n",
        "    func1(a,b)\n",
        "\n",
        "\n",
        "    func1(a,b,c)\n",
        "    \n",
        "    \n",
        "#Not supported"
      ]
    },
    {
      "cell_type": "code",
      "execution_count": null,
      "metadata": {
        "id": "H89OrPVi-Ze4",
        "outputId": "82fd4b75-5136-444b-bc92-b4ec0bd8cba1"
      },
      "outputs": [
        {
          "name": "stdout",
          "output_type": "stream",
          "text": [
            "5\n",
            "9\n"
          ]
        }
      ],
      "source": [
        "def add(x, y, z = 0):\n",
        "    return x + y+z\n",
        " \n",
        "# Driver code\n",
        "print(add(2, 3))\n",
        "print(add(2, 3, 4))"
      ]
    },
    {
      "cell_type": "code",
      "execution_count": null,
      "metadata": {
        "id": "jOb3sOc9-Ze4",
        "outputId": "9eec8743-f90c-4e79-a5bb-889d50de79ec"
      },
      "outputs": [
        {
          "ename": "SyntaxError",
          "evalue": "non-default argument follows default argument (<ipython-input-14-a47266be0b00>, line 1)",
          "output_type": "error",
          "traceback": [
            "\u001b[1;36m  File \u001b[1;32m\"<ipython-input-14-a47266be0b00>\"\u001b[1;36m, line \u001b[1;32m1\u001b[0m\n\u001b[1;33m    def add(x, y=0, z):\u001b[0m\n\u001b[1;37m           ^\u001b[0m\n\u001b[1;31mSyntaxError\u001b[0m\u001b[1;31m:\u001b[0m non-default argument follows default argument\n"
          ]
        }
      ],
      "source": [
        "def add(x, y=0, z):\n",
        "    return x + y + z\n",
        " \n",
        "# Driver code\n",
        "print(add(2, 3))\n",
        "print(add(2, 3, 4))"
      ]
    },
    {
      "cell_type": "code",
      "execution_count": null,
      "metadata": {
        "id": "RzOsDATE-Ze4",
        "outputId": "fa3a24e0-fe6e-4257-e4b4-944856f0c958"
      },
      "outputs": [
        {
          "name": "stdout",
          "output_type": "stream",
          "text": [
            "9\n",
            "9\n"
          ]
        }
      ],
      "source": [
        "def add(x, y, z, *args):\n",
        "    return x + y + z\n",
        " \n",
        "# Driver code\n",
        "print(add(2, 3, 4))\n",
        "print(add(2, 3, 4, 10))"
      ]
    },
    {
      "cell_type": "code",
      "execution_count": null,
      "metadata": {
        "id": "lKH5FcV6-Ze5"
      },
      "outputs": [],
      "source": [
        "March 14  8 am\n",
        "March 19  9.30 am\n",
        "Rohith\n",
        "\n",
        "kannanparthipan@gmail.com\n",
        "7259000466"
      ]
    }
  ],
  "metadata": {
    "kernelspec": {
      "display_name": "Python 3",
      "language": "python",
      "name": "python3"
    },
    "language_info": {
      "codemirror_mode": {
        "name": "ipython",
        "version": 3
      },
      "file_extension": ".py",
      "mimetype": "text/x-python",
      "name": "python",
      "nbconvert_exporter": "python",
      "pygments_lexer": "ipython3",
      "version": "3.7.6"
    },
    "colab": {
      "name": "Object Oriented Programming.ipynb",
      "provenance": [],
      "collapsed_sections": []
    }
  },
  "nbformat": 4,
  "nbformat_minor": 0
}